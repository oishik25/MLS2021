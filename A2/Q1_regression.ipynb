{
 "cells": [
  {
   "cell_type": "code",
   "execution_count": 26,
   "metadata": {},
   "outputs": [],
   "source": [
    "# import necessary modules\n",
    "import pandas as pd\n",
    "import numpy as np\n",
    "import matplotlib.pyplot as plt\n",
    "import house_sales_data as hsd\n",
    "from sklearn.preprocessing import StandardScaler\n",
    "from sklearn.model_selection import train_test_split"
   ]
  },
  {
   "cell_type": "code",
   "execution_count": 5,
   "metadata": {},
   "outputs": [
    {
     "name": "stdout",
     "output_type": "stream",
     "text": [
      "dict_keys(['price', 'area', 'beds', 'baths', 'condo', 'location'])\n"
     ]
    }
   ],
   "source": [
    "## Sacramento house price data; load\n",
    "data = hsd.house_sales_data() \n",
    "print(data.keys())\n",
    "\n",
    "## Get the target (i.e., price) and two features\n",
    "price = data['price']\n",
    "area = data['area']\n",
    "beds = data['beds']"
   ]
  },
  {
   "cell_type": "code",
   "execution_count": 6,
   "metadata": {},
   "outputs": [],
   "source": [
    "# Implement gradient descent (NOT SGD, just simple GD!)\n",
    "def gradient_descent(X, y, max_iteration, learning_rate):\n",
    "    m, n = X.shape\n",
    "    theta = np.zeros(n)\n",
    "    costs = np.zeros(max_iteration)\n",
    "    for t in range(max_iteration):\n",
    "        grad = np.zeros(n)\n",
    "        for i in range(m):\n",
    "            yhat = X[i] @ theta\n",
    "            costs[t] += 1/m * (yhat - y[i])**2\n",
    "            for j in range(n):\n",
    "                grad[j] += 1/m * 2 * (yhat - y[i])*X[i,j]\n",
    "        theta -= learning_rate * grad\n",
    "    return theta, costs"
   ]
  },
  {
   "cell_type": "code",
   "execution_count": 7,
   "metadata": {},
   "outputs": [],
   "source": [
    "# Normalize data \n",
    "def normalize_data(X, y, normalize_cols):\n",
    "    min_X = X[:,normalize_cols].min(axis=0)\n",
    "    max_X = X[:,normalize_cols].max(axis=0)\n",
    "    min_y = y.min()\n",
    "    max_y = y.max()\n",
    "    X[:,normalize_cols] = (X[:,normalize_cols] - min_X) / (max_X - min_X)\n",
    "    y[:] = (y - min_y) / (max_y - min_y)\n",
    "    return min_X, max_X, min_y, max_y\n",
    "X = np.array([area, beds, np.ones(area.shape[0])]).T\n",
    "y = price\n",
    "ranges = normalize_data(X, y, [True, True, False])"
   ]
  },
  {
   "cell_type": "code",
   "execution_count": null,
   "metadata": {},
   "outputs": [],
   "source": [
    "# Implement an evaluation metric for regression\n",
    "def evaluation_metric(y,y_hat):\n",
    "    pass"
   ]
  },
  {
   "cell_type": "code",
   "execution_count": 14,
   "metadata": {},
   "outputs": [
    {
     "data": {
      "text/plain": [
       "0.014339235247886856"
      ]
     },
     "execution_count": 14,
     "metadata": {},
     "output_type": "execute_result"
    }
   ],
   "source": [
    "#evaluation metric\n",
    "def hypo(X,theta):\n",
    "    return X@theta\n",
    "def lossf(theta,X,y):\n",
    "    return np.mean(np.square(hypo(X,theta)-y))\n",
    "lossf(theta,X,y)"
   ]
  },
  {
   "cell_type": "code",
   "execution_count": 27,
   "metadata": {},
   "outputs": [],
   "source": [
    "# Prepare data this way\n",
    "X_train = np.hstack((area[:,np.newaxis], beds[:,np.newaxis], np.ones(area.shape[0])[:,np.newaxis]))\n",
    "y_train = price\n",
    "min_X, max_X, min_y, max_y = normalize_data(X_train, y_train, [True, True, False])\n",
    "X_train, X_test, y_train, y_test = train_test_split(X, y, test_size=0.2, random_state=42)"
   ]
  },
  {
   "cell_type": "code",
   "execution_count": 9,
   "metadata": {},
   "outputs": [],
   "source": [
    "# call gradient descent and fine-tune your learning rate\n",
    "theta,cost=gradient_descent(X,y,500,0.1)"
   ]
  },
  {
   "cell_type": "code",
   "execution_count": 10,
   "metadata": {},
   "outputs": [
    {
     "name": "stdout",
     "output_type": "stream",
     "text": [
      "[0.64617435 0.07955829 0.05428574]\n"
     ]
    }
   ],
   "source": [
    "print(theta)"
   ]
  },
  {
   "cell_type": "code",
   "execution_count": 11,
   "metadata": {},
   "outputs": [
    {
     "data": {
      "text/plain": [
       "[<matplotlib.lines.Line2D at 0x7f2255467b80>]"
      ]
     },
     "execution_count": 11,
     "metadata": {},
     "output_type": "execute_result"
    },
    {
     "data": {
      "image/png": "[encoded data removed]",
      "text/plain": [
       "<Figure size 432x288 with 1 Axes>"
      ]
     },
     "metadata": {
      "needs_background": "light"
     },
     "output_type": "display_data"
    }
   ],
   "source": [
    "# plot cost vs iterations \n",
    "plt.plot(cost)\n",
    "# note gradient descent return costs for all iterations"
   ]
  },
  {
   "cell_type": "code",
   "execution_count": 23,
   "metadata": {},
   "outputs": [],
   "source": [
    "# print evaluation metric for test set while \n",
    "# changing max_iteration from 500 to 2000\n",
    "# Note the best value of evaluation metric you get\n",
    "losslist=[]\n",
    "for i in np.arange(500,2001,100):\n",
    "    theta,cost=gradient_descent(X,y,i,0.1)\n",
    "    losslist.append(lossf(theta,X,y))\n",
    "    "
   ]
  },
  {
   "cell_type": "code",
   "execution_count": 25,
   "metadata": {},
   "outputs": [
    {
     "data": {
      "text/plain": [
       "[<matplotlib.lines.Line2D at 0x7f22539244c0>]"
      ]
     },
     "execution_count": 25,
     "metadata": {},
     "output_type": "execute_result"
    },
    {
     "data": {
      "image/png": "[encoded data removed]",
      "text/plain": [
       "<Figure size 432x288 with 1 Axes>"
      ]
     },
     "metadata": {
      "needs_background": "light"
     },
     "output_type": "display_data"
    }
   ],
   "source": [
    "plt.plot(losslist)"
   ]
  },
  {
   "cell_type": "code",
   "execution_count": 29,
   "metadata": {},
   "outputs": [
    {
     "name": "stdout",
     "output_type": "stream",
     "text": [
      "0.013531882302686968\n"
     ]
    }
   ],
   "source": [
    "#best value of evauation metric\n",
    "theta,cost=gradient_descent(X,y,2000,0.1)\n",
    "print(lossf(theta,X,y))\n"
   ]
  },
  {
   "cell_type": "code",
   "execution_count": 30,
   "metadata": {},
   "outputs": [],
   "source": [
    "# compare your solution with scikit-learn library\n",
    "from sklearn import datasets, linear_model"
   ]
  },
  {
   "cell_type": "code",
   "execution_count": 32,
   "metadata": {},
   "outputs": [],
   "source": [
    "# Create linear regression object\n",
    "reg=linear_model.LinearRegression()"
   ]
  },
  {
   "cell_type": "code",
   "execution_count": 33,
   "metadata": {},
   "outputs": [
    {
     "data": {
      "text/plain": [
       "LinearRegression()"
      ]
     },
     "execution_count": 33,
     "metadata": {},
     "output_type": "execute_result"
    }
   ],
   "source": [
    "# Train the model using the training sets\n",
    "reg.fit(X_train,y_train)"
   ]
  },
  {
   "cell_type": "code",
   "execution_count": 34,
   "metadata": {},
   "outputs": [
    {
     "data": {
      "text/plain": [
       "array([0.33279794, 0.19847744, 0.46143228, 0.28216527, 0.26391927,\n",
       "       0.13461642, 0.47808176, 0.16222921, 0.56476599, 0.18912636,\n",
       "       0.25253123, 0.13416027, 0.21603922, 0.36291956, 0.2372502 ,\n",
       "       0.24318015, 0.21079349, 0.35216861, 0.19461587, 0.25890162,\n",
       "       0.14784477, 0.40420115, 0.28674249, 0.40006437, 0.23040795,\n",
       "       0.20851274, 0.43701253, 0.24477667, 0.27305798, 0.25411204,\n",
       "       0.19368786, 0.26141044, 0.14693247, 0.32619947, 0.17840683,\n",
       "       0.31820113, 0.25618043, 0.38297445, 0.17110843, 0.24590134,\n",
       "       0.15444324, 0.41034346, 0.25435583, 0.13736903, 0.47899406,\n",
       "       0.29837432, 0.3360067 , 0.33576291, 0.26142615, 0.19187897,\n",
       "       0.20668814, 0.18935443, 0.28423366, 0.35014736, 0.30546035,\n",
       "       0.42240002, 0.43132637, 0.15537125, 0.13966549, 0.26165423,\n",
       "       0.15651162, 0.23840628, 0.26802462, 0.17658223, 0.47262367,\n",
       "       0.1503536 , 0.16268536, 0.18000336, 0.51160879, 0.41446452,\n",
       "       0.14626396, 0.38732359, 0.32072567, 0.24296779, 0.33188564,\n",
       "       0.1904791 , 0.14717626, 0.29791817, 0.25730509, 0.23953095,\n",
       "       0.23176068, 0.4584673 , 0.59052276, 0.48492401, 0.34237709,\n",
       "       0.15903616, 0.22539029, 0.19461587, 0.21010926, 0.52643367,\n",
       "       0.5013297 , 0.22493414, 0.25297167, 0.52550566, 0.25639279,\n",
       "       0.131211  , 0.18342448, 0.15170634, 0.19596861, 0.23496945,\n",
       "       0.24684506, 0.35925465, 0.19733706, 0.2582331 , 0.24342394,\n",
       "       0.18228411, 0.22723061, 0.16996805, 0.31116223, 0.27691955,\n",
       "       0.24135555, 0.20509161, 0.40853457, 0.30954999, 0.40008008,\n",
       "       0.14737291, 0.16745923, 0.16472233, 0.25297167, 0.38274638,\n",
       "       0.68128093, 0.1649504 , 0.33258558, 0.39323783, 0.31249926,\n",
       "       0.26758418, 0.1822684 , 0.22812719, 0.2317764 , 0.16723115,\n",
       "       0.18251218, 0.13349175, 0.21672344, 0.40485395, 0.20417931,\n",
       "       0.22493414, 0.35402463, 0.12298459, 0.42151914, 0.6559646 ,\n",
       "       0.16198543, 0.14373942, 0.20944075, 0.59076655, 0.19846173,\n",
       "       0.13805326, 0.32185034, 0.17840683, 0.21330232, 0.15537125,\n",
       "       0.24682935, 0.32070996, 0.21923227, 0.1257372 , 0.13257945])"
      ]
     },
     "execution_count": 34,
     "metadata": {},
     "output_type": "execute_result"
    }
   ],
   "source": [
    "# Predict on test set and print evaluation metric\n",
    "# How much does it differ by from your (GD) solution\n",
    "reg.predict(X_test)"
   ]
  },
  {
   "cell_type": "code",
   "execution_count": 35,
   "metadata": {},
   "outputs": [
    {
     "data": {
      "text/plain": [
       "array([ 0.85847455, -0.12666022,  0.        ])"
      ]
     },
     "execution_count": 35,
     "metadata": {},
     "output_type": "execute_result"
    }
   ],
   "source": [
    "reg.coef_"
   ]
  },
  {
   "cell_type": "code",
   "execution_count": 36,
   "metadata": {},
   "outputs": [
    {
     "data": {
      "text/plain": [
       "0.021265380152388717"
      ]
     },
     "execution_count": 36,
     "metadata": {},
     "output_type": "execute_result"
    }
   ],
   "source": [
    "lossf(reg.coef_,X,y)"
   ]
  },
  {
   "cell_type": "code",
   "execution_count": 38,
   "metadata": {},
   "outputs": [
    {
     "name": "stdout",
     "output_type": "stream",
     "text": [
      "0.013531882302686968\n"
     ]
    }
   ],
   "source": [
    "#best value of evauation metric\n",
    "theta,cost=gradient_descent(X,y,2000,0.1)\n",
    "print(lossf(theta,X,y))"
   ]
  },
  {
   "cell_type": "code",
   "execution_count": null,
   "metadata": {},
   "outputs": [],
   "source": []
  }
 ],
 "metadata": {
  "kernelspec": {
   "display_name": "Python 3",
   "language": "python",
   "name": "python3"
  },
  "language_info": {
   "codemirror_mode": {
    "name": "ipython",
    "version": 3
   },
   "file_extension": ".py",
   "mimetype": "text/x-python",
   "name": "python",
   "nbconvert_exporter": "python",
   "pygments_lexer": "ipython3",
   "version": "3.8.5"
  }
 },
 "nbformat": 4,
 "nbformat_minor": 4
}
